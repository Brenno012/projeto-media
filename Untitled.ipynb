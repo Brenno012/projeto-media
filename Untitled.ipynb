{
  "nbformat": 4,
  "nbformat_minor": 0,
  "metadata": {
    "colab": {
      "provenance": [],
      "authorship_tag": "ABX9TyMdoY04n4k8776V67fUZDFo",
      "include_colab_link": true
    },
    "kernelspec": {
      "name": "python3",
      "display_name": "Python 3"
    },
    "language_info": {
      "name": "python"
    }
  },
  "cells": [
    {
      "cell_type": "markdown",
      "metadata": {
        "id": "view-in-github",
        "colab_type": "text"
      },
      "source": [
        "<a href=\"https://colab.research.google.com/github/Brenno012/projeto-media/blob/main/Untitled.ipynb\" target=\"_parent\"><img src=\"https://colab.research.google.com/assets/colab-badge.svg\" alt=\"Open In Colab\"/></a>"
      ]
    },
    {
      "cell_type": "code",
      "execution_count": 16,
      "metadata": {
        "colab": {
          "base_uri": "https://localhost:8080/",
          "height": 831
        },
        "id": "wrloE2X9RP5b",
        "outputId": "b0061bec-e2f4-4f25-9247-c8a67b3a267f"
      },
      "outputs": [
        {
          "output_type": "stream",
          "name": "stdout",
          "text": [
            "digite 1 para adicionar um aluno \n",
            "       2 para excluir um aluno \n",
            "       3 para atualizar um aluno \n",
            "       4 para ver a lista de aluno \n",
            "       5 para cancelar 1\n",
            "informe o nome do aluno: a\n",
            "digite 1 para adicionar um aluno \n",
            "       2 para excluir um aluno \n",
            "       3 para atualizar um aluno \n",
            "       4 para ver a lista de aluno \n",
            "       5 para cancelar 1\n",
            "informe o nome do aluno: b\n",
            "digite 1 para adicionar um aluno \n",
            "       2 para excluir um aluno \n",
            "       3 para atualizar um aluno \n",
            "       4 para ver a lista de aluno \n",
            "       5 para cancelar 3\n",
            "Informe o aluno que deeja atualizar. a\n",
            "Informe o nome do aluno: c\n",
            "c foi adicionado com sucesso.\n",
            "digite 1 para adicionar um aluno \n",
            "       2 para excluir um aluno \n",
            "       3 para atualizar um aluno \n",
            "       4 para ver a lista de aluno \n",
            "       5 para cancelar 4\n",
            "['a', 'b', 'c']\n"
          ]
        },
        {
          "output_type": "error",
          "ename": "KeyboardInterrupt",
          "evalue": "ignored",
          "traceback": [
            "\u001b[0;31m---------------------------------------------------------------------------\u001b[0m",
            "\u001b[0;31mKeyboardInterrupt\u001b[0m                         Traceback (most recent call last)",
            "\u001b[0;32m<ipython-input-16-24c42340d5a6>\u001b[0m in \u001b[0;36m<module>\u001b[0;34m\u001b[0m\n\u001b[1;32m      1\u001b[0m \u001b[0msala\u001b[0m \u001b[0;34m=\u001b[0m \u001b[0;34m[\u001b[0m\u001b[0;34m]\u001b[0m\u001b[0;34m\u001b[0m\u001b[0;34m\u001b[0m\u001b[0m\n\u001b[1;32m      2\u001b[0m \u001b[0;32mwhile\u001b[0m \u001b[0;32mTrue\u001b[0m\u001b[0;34m:\u001b[0m\u001b[0;34m\u001b[0m\u001b[0;34m\u001b[0m\u001b[0m\n\u001b[0;32m----> 3\u001b[0;31m     acao = int(input('''digite 1 para adicionar um aluno \n\u001b[0m\u001b[1;32m      4\u001b[0m        \u001b[0;36m2\u001b[0m \u001b[0mpara\u001b[0m \u001b[0mexcluir\u001b[0m \u001b[0mum\u001b[0m \u001b[0maluno\u001b[0m\u001b[0;34m\u001b[0m\u001b[0;34m\u001b[0m\u001b[0m\n\u001b[1;32m      5\u001b[0m        \u001b[0;36m3\u001b[0m \u001b[0mpara\u001b[0m \u001b[0matualizar\u001b[0m \u001b[0mum\u001b[0m \u001b[0maluno\u001b[0m\u001b[0;34m\u001b[0m\u001b[0;34m\u001b[0m\u001b[0m\n",
            "\u001b[0;32m/usr/local/lib/python3.9/dist-packages/ipykernel/kernelbase.py\u001b[0m in \u001b[0;36mraw_input\u001b[0;34m(self, prompt)\u001b[0m\n\u001b[1;32m    858\u001b[0m                 \u001b[0;34m\"raw_input was called, but this frontend does not support input requests.\"\u001b[0m\u001b[0;34m\u001b[0m\u001b[0;34m\u001b[0m\u001b[0m\n\u001b[1;32m    859\u001b[0m             )\n\u001b[0;32m--> 860\u001b[0;31m         return self._input_request(str(prompt),\n\u001b[0m\u001b[1;32m    861\u001b[0m             \u001b[0mself\u001b[0m\u001b[0;34m.\u001b[0m\u001b[0m_parent_ident\u001b[0m\u001b[0;34m,\u001b[0m\u001b[0;34m\u001b[0m\u001b[0;34m\u001b[0m\u001b[0m\n\u001b[1;32m    862\u001b[0m             \u001b[0mself\u001b[0m\u001b[0;34m.\u001b[0m\u001b[0m_parent_header\u001b[0m\u001b[0;34m,\u001b[0m\u001b[0;34m\u001b[0m\u001b[0;34m\u001b[0m\u001b[0m\n",
            "\u001b[0;32m/usr/local/lib/python3.9/dist-packages/ipykernel/kernelbase.py\u001b[0m in \u001b[0;36m_input_request\u001b[0;34m(self, prompt, ident, parent, password)\u001b[0m\n\u001b[1;32m    902\u001b[0m             \u001b[0;32mexcept\u001b[0m \u001b[0mKeyboardInterrupt\u001b[0m\u001b[0;34m:\u001b[0m\u001b[0;34m\u001b[0m\u001b[0;34m\u001b[0m\u001b[0m\n\u001b[1;32m    903\u001b[0m                 \u001b[0;31m# re-raise KeyboardInterrupt, to truncate traceback\u001b[0m\u001b[0;34m\u001b[0m\u001b[0;34m\u001b[0m\u001b[0m\n\u001b[0;32m--> 904\u001b[0;31m                 \u001b[0;32mraise\u001b[0m \u001b[0mKeyboardInterrupt\u001b[0m\u001b[0;34m(\u001b[0m\u001b[0;34m\"Interrupted by user\"\u001b[0m\u001b[0;34m)\u001b[0m \u001b[0;32mfrom\u001b[0m \u001b[0;32mNone\u001b[0m\u001b[0;34m\u001b[0m\u001b[0;34m\u001b[0m\u001b[0m\n\u001b[0m\u001b[1;32m    905\u001b[0m             \u001b[0;32mexcept\u001b[0m \u001b[0mException\u001b[0m \u001b[0;32mas\u001b[0m \u001b[0me\u001b[0m\u001b[0;34m:\u001b[0m\u001b[0;34m\u001b[0m\u001b[0;34m\u001b[0m\u001b[0m\n\u001b[1;32m    906\u001b[0m                 \u001b[0mself\u001b[0m\u001b[0;34m.\u001b[0m\u001b[0mlog\u001b[0m\u001b[0;34m.\u001b[0m\u001b[0mwarning\u001b[0m\u001b[0;34m(\u001b[0m\u001b[0;34m\"Invalid Message:\"\u001b[0m\u001b[0;34m,\u001b[0m \u001b[0mexc_info\u001b[0m\u001b[0;34m=\u001b[0m\u001b[0;32mTrue\u001b[0m\u001b[0;34m)\u001b[0m\u001b[0;34m\u001b[0m\u001b[0;34m\u001b[0m\u001b[0m\n",
            "\u001b[0;31mKeyboardInterrupt\u001b[0m: Interrupted by user"
          ]
        }
      ],
      "source": [
        "sala = []\n",
        "while True:\n",
        "    acao = int(input('''digite 1 para adicionar um aluno \n",
        "       2 para excluir um aluno \n",
        "       3 para atualizar um aluno \n",
        "       4 para ver a lista de aluno \n",
        "       5 para cancelar '''))\n",
        "    \n",
        "    if acao == 1:\n",
        "        aluno = input('informe o nome do aluno: ')\n",
        "        sala.append(aluno)\n",
        "        sala.sort()\n",
        "\n",
        "    elif acao == 2:\n",
        "        aluno = input('informe o aluno que deseja excluir: ')\n",
        "        if aluno in sala:\n",
        "            aluno_x = sala.index(aluno)\n",
        "            sala.pop(aluno_x)\n",
        "            print(f'{aluno} excluido com sucesso.')\n",
        "        else:\n",
        "            print('O aluno não está cadastrado.')\n",
        "\n",
        "    elif acao == 3:\n",
        "        aluno = input('Informe o aluno que deeja atualizar. ')\n",
        "        if aluno in sala:\n",
        "            aluno_x = sala.index(aluno)\n",
        "            aluno = input('Informe o nome do aluno: ')\n",
        "            sala[aluno_x] = aluno)\n",
        "            print(f'{aluno} foi adicionado com sucesso.')\n",
        "            sala.sort()\n",
        "        else:\n",
        "            print('O aluno não está cadastrado')\n",
        "\n",
        "    elif acao == 4:\n",
        "        print(sala)\n",
        "        \n",
        "    elif acao == 5:\n",
        "        break\n",
        "    else:\n",
        "        print('opção invalida')\n",
        "    "
      ]
    },
    {
      "cell_type": "code",
      "source": [],
      "metadata": {
        "colab": {
          "base_uri": "https://localhost:8080/"
        },
        "id": "gYanbLX2TMB8",
        "outputId": "49429c5c-2a57-4c5d-b9c0-41dcf260de52"
      },
      "execution_count": 11,
      "outputs": [
        {
          "output_type": "execute_result",
          "data": {
            "text/plain": [
              "['brenno', 'mariana', 'mariane']"
            ]
          },
          "metadata": {},
          "execution_count": 11
        }
      ]
    }
  ]
}