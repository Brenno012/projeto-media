{
  "nbformat": 4,
  "nbformat_minor": 0,
  "metadata": {
    "colab": {
      "provenance": [],
      "authorship_tag": "ABX9TyMmy+DqMNjxl2VcZpIPeb2k",
      "include_colab_link": true
    },
    "kernelspec": {
      "name": "python3",
      "display_name": "Python 3"
    },
    "language_info": {
      "name": "python"
    }
  },
  "cells": [
    {
      "cell_type": "markdown",
      "metadata": {
        "id": "view-in-github",
        "colab_type": "text"
      },
      "source": [
        "<a href=\"https://colab.research.google.com/github/Brenno012/projeto-media/blob/main/Untitled.ipynb\" target=\"_parent\"><img src=\"https://colab.research.google.com/assets/colab-badge.svg\" alt=\"Open In Colab\"/></a>"
      ]
    },
    {
      "cell_type": "code",
      "execution_count": null,
      "metadata": {
        "id": "wrloE2X9RP5b"
      },
      "outputs": [],
      "source": [
        "sala = []\n",
        "while True:\n",
        "    acao = int(input('''digite 1 para adicionar um aluno \n",
        "       2 para excluir um aluno \n",
        "       3 para atualizar um aluno \n",
        "       4 para ver a lista de aluno \n",
        "       5 para cancelar '''))\n",
        "    \n",
        "    if acao == 1:\n",
        "        aluno = input('informe o nome do aluno: ')\n",
        "        sala.append(aluno)\n",
        "        sala.sort()\n",
        "\n",
        "    elif acao == 2:\n",
        "        aluno = input('informe o aluno que deseja excluir: ')\n",
        "        if aluno in sala:\n",
        "            aluno_x = sala.index(aluno)\n",
        "            sala.pop(aluno_x)\n",
        "            print(f'{aluno} excluido com sucesso.')\n",
        "        else:\n",
        "            print('O aluno não está cadastrado.')\n",
        "\n",
        "    elif acao == 3:\n",
        "        aluno = input('Informe o aluno que deeja atualizar. ')\n",
        "        if aluno in sala:\n",
        "            aluno_x = sala.index(aluno)\n",
        "            aluno = input('Informe o nome do aluno: ')\n",
        "            sala[aluno_x] = aluno)\n",
        "            print(f'{aluno} foi adicionado com sucesso.')\n",
        "            sala.sort()\n",
        "        else:\n",
        "            print('O aluno não está cadastrado')\n",
        "\n",
        "    elif acao == 4:\n",
        "        print(sala)\n",
        "        \n",
        "    elif acao == 5:\n",
        "        break\n",
        "    else:\n",
        "        print('opção invalida')\n",
        "    "
      ]
    }
  ]
}